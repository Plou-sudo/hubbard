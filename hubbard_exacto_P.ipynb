{
 "cells": [
  {
   "cell_type": "markdown",
   "id": "confidential-klein",
   "metadata": {},
   "source": [
    "# Cáculo excato para diferente número de sitios, P."
   ]
  },
  {
   "cell_type": "code",
   "execution_count": null,
   "id": "quick-batch",
   "metadata": {},
   "outputs": [],
   "source": [
    "%matplotlib inline\n",
    "import numpy as np\n",
    "from qutip import *\n",
    "import matplotlib.pyplot as plt\n",
    "from sympy.utilities.iterables import multiset_permutations\n",
    "from time import time"
   ]
  },
  {
   "cell_type": "code",
   "execution_count": null,
   "id": "figured-neighbor",
   "metadata": {},
   "outputs": [],
   "source": [
    "def Is(i): return [qeye(2) for j in range(0, i)]\n",
    "def b(i): return [basis(2,0) for j in range(0, i)]\n",
    "def sigz(i): return[sigmaz() for j in range(0,i)]\n",
    "def d(N,i): return tensor(sigz(i)+[destroy(2)]+ Is(N-i-1))"
   ]
  },
  {
   "cell_type": "code",
   "execution_count": null,
   "id": "sixth-replication",
   "metadata": {},
   "outputs": [],
   "source": [
    "def factorial(n):\n",
    "    productoria = 1\n",
    "    for i in range(2, n+1):\n",
    "        productoria *= i\n",
    "    return productoria"
   ]
  },
  {
   "cell_type": "code",
   "execution_count": null,
   "id": "stable-polish",
   "metadata": {},
   "outputs": [],
   "source": [
    "def combinatorio(n, k):\n",
    "    return factorial(n)//(factorial(n-k)*factorial(k)) "
   ]
  },
  {
   "cell_type": "code",
   "execution_count": null,
   "id": "confidential-martial",
   "metadata": {},
   "outputs": [],
   "source": [
    "def base_comp(Sites, N_electrones):\n",
    "    q=b(2*Sites)\n",
    "    for i in range(0,N_electrones):\n",
    "        q[i]=create(2)*q[i]\n",
    "    return list(multiset_permutations(q))"
   ]
  },
  {
   "cell_type": "code",
   "execution_count": null,
   "id": "lonely-cabinet",
   "metadata": {},
   "outputs": [],
   "source": [
    "def n_operator(sites, n_electrones):\n",
    "    n=[[0 for x in range(2)] for y in range (sites)]\n",
    "    l=0\n",
    "    for i in range(sites):\n",
    "        for j in range(2):\n",
    "            n[i][j]=d(2*sites,l).dag()*d(2*sites,l)\n",
    "            l+=1\n",
    "    \n",
    "    return n"
   ]
  },
  {
   "cell_type": "code",
   "execution_count": null,
   "id": "external-attack",
   "metadata": {},
   "outputs": [],
   "source": [
    "def spin_total(base1):\n",
    "    s=0\n",
    "    for i in range (len(base1)):\n",
    "        if(base1[i]==basis(2,1) and i%2==0):\n",
    "            s+=-0.5\n",
    "        elif (base1[i]==basis(2,1) and i%2!=0):\n",
    "            s+=0.5         \n",
    "    return s"
   ]
  },
  {
   "cell_type": "code",
   "execution_count": null,
   "id": "afraid-prefix",
   "metadata": {},
   "outputs": [],
   "source": [
    "def kinetic(t, sites):\n",
    "    \n",
    "    T=0\n",
    "    \n",
    "    for i in range (0,2*sites):\n",
    "        for j in range (0,2*sites):\n",
    "            T+=t[i][j]*d(2*sites,i).dag()*d(2*sites,j)\n",
    "            \n",
    "    return T"
   ]
  },
  {
   "cell_type": "code",
   "execution_count": null,
   "id": "induced-shell",
   "metadata": {},
   "outputs": [],
   "source": [
    "def local_potential(v,sites):\n",
    "    V=0\n",
    "    l=0\n",
    "    for i in range(sites):\n",
    "        for j in range (2):\n",
    "            V+=v[i]*d(2*sites,l).dag()*d(2*sites,l)\n",
    "            l+=1\n",
    "    return V  "
   ]
  },
  {
   "cell_type": "code",
   "execution_count": null,
   "id": "danish-stability",
   "metadata": {},
   "outputs": [],
   "source": [
    "def two_body(U, sites):\n",
    "    S=0\n",
    "    \n",
    "    for i in range(sites):\n",
    "        S+=U*d(2*sites, 2*i).dag()*d(2*sites, 2*i)*d(2*sites, 2*i+1).dag()*d(2*sites, 2*i+1)\n",
    "    return S"
   ]
  },
  {
   "cell_type": "code",
   "execution_count": null,
   "id": "persistent-garbage",
   "metadata": {},
   "outputs": [],
   "source": [
    "N_e=2\n",
    "P=[2, 4, 6, 8, 10]            \n",
    "U=0.2"
   ]
  },
  {
   "cell_type": "code",
   "execution_count": null,
   "id": "roman-singing",
   "metadata": {},
   "outputs": [],
   "source": [
    "E=[]\n",
    "tiempo=[]\n",
    "\n",
    "for j in range (0, len(P)):\n",
    "    \n",
    "    t_0=time()\n",
    "    \n",
    "    A=0\n",
    "    base_total=base_comp(P[j],N_e)\n",
    "\n",
    "    for i in range (combinatorio(2*P[j],N_e)):\n",
    "        A+=tensor(base_total[i])*basis(combinatorio(2*P[j],N_e),i).dag()\n",
    "    \n",
    "    t = [[0 for x in range(2*P[j])] for y in range(2*P[j])]\n",
    "    v=np.zeros(P[j])\n",
    "    \n",
    "    for i in range (0, 2*P[j]-2):\n",
    "        t[i][i+2]=t[i+2][i]=-0.5\n",
    "    \n",
    "    h_1=A.dag()*kinetic(t,P[j])*A\n",
    "    h_2=A.dag()*two_body(U,P[j])*A\n",
    "    \n",
    "    \n",
    "    for i in range (0,P[j]):\n",
    "        v[i]=1.\n",
    "            \n",
    "    h_3=A.dag()*local_potential(v,P[j])*A\n",
    "    H=h_1+h_2+h_3\n",
    "    evals, ekets= H.eigenstates()\n",
    "        \n",
    "    t_1=time()-t_0\n",
    "    \n",
    "    E.append(evals[0])\n",
    "    tiempo.append(t_1)\n",
    "\n",
    "np.savetxt(\"E_t_P_exact.txt\", np.c_[E,tiempo,P])"
   ]
  }
 ],
 "metadata": {
  "kernelspec": {
   "display_name": "Python 3",
   "language": "python",
   "name": "python3"
  },
  "language_info": {
   "codemirror_mode": {
    "name": "ipython",
    "version": 3
   },
   "file_extension": ".py",
   "mimetype": "text/x-python",
   "name": "python",
   "nbconvert_exporter": "python",
   "pygments_lexer": "ipython3",
   "version": "3.8.6"
  }
 },
 "nbformat": 4,
 "nbformat_minor": 5
}
