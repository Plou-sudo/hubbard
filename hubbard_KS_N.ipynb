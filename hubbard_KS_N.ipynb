{
 "cells": [
  {
   "cell_type": "markdown",
   "id": "tired-transaction",
   "metadata": {},
   "source": [
    "# Cálculo K-S para diferentes N´s."
   ]
  },
  {
   "cell_type": "code",
   "execution_count": 1,
   "id": "drawn-thumb",
   "metadata": {},
   "outputs": [],
   "source": [
    "%matplotlib inline\n",
    "import numpy as np\n",
    "from qutip import *\n",
    "import matplotlib.pyplot as plt\n",
    "from sympy.utilities.iterables import multiset_permutations\n",
    "from time import time\n",
    "import random"
   ]
  },
  {
   "cell_type": "code",
   "execution_count": 2,
   "id": "smaller-spanking",
   "metadata": {},
   "outputs": [],
   "source": [
    "def ind_menor(vector):\n",
    "    \n",
    "    ind_min=[]\n",
    "    ordenados=sorted(vector)\n",
    "    \n",
    "    for i in range (len(vector)):\n",
    "        for k in range(len(vector)):\n",
    "        \n",
    "            if (vector[k]==ordenados[i]):\n",
    "                \n",
    "                ind_min.append(k)\n",
    "                ind_min.append(k)\n",
    "            \n",
    "    return ind_min"
   ]
  },
  {
   "cell_type": "code",
   "execution_count": 3,
   "id": "supreme-metro",
   "metadata": {},
   "outputs": [],
   "source": [
    "P=8\n",
    "N_e=[2, 4, 6, 8, 10, 12]\n",
    "u=0.2\n",
    "alpha=0.9"
   ]
  },
  {
   "cell_type": "code",
   "execution_count": 6,
   "id": "genetic-empty",
   "metadata": {},
   "outputs": [],
   "source": [
    "E=[]\n",
    "tiempo=[]\n",
    "\n",
    "for i in range (0, len(N_e)):\n",
    "    \n",
    "    t_0=time()\n",
    "    \n",
    "    T=np.zeros([P, P])\n",
    "    V=np.zeros([P, P])\n",
    "    W=np.zeros([P, P])\n",
    "    v=np.zeros(P)\n",
    "\n",
    "    for k in range (0, P-1):\n",
    "        T[k,k+1]=T[k+1,k]=-0.5\n",
    "             \n",
    "    for k in range (0, P):\n",
    "        v[k]=1.\n",
    "        \n",
    "    for k in range (0, P):\n",
    "            V[k,k]=v[k]\n",
    "            \n",
    "    n_out=np.zeros(P)\n",
    "    n_new=np.zeros(P)\n",
    "    n_old=[1 for x in range(P)]\n",
    "    n_new[0]=N_e[i]\n",
    "    \n",
    "    N_2=0       \n",
    "    epsilon=0 \n",
    "        \n",
    "    while (all(abs(np.array(n_old)-np.array(n_new))>0.000000001)):\n",
    "    #for l in range (300):\n",
    "    #while(abs(n_new[0]+n_new[1]-n_old[0]-n_old[1])>0.0000001):\n",
    "       \n",
    "        for k in range (0, P):\n",
    "            n_old[k]=n_new[k]\n",
    "                \n",
    "        for k in range (0, P):\n",
    "            W[k,k]=0.5*u*n_old[k]\n",
    "                \n",
    "        H_ks=T+V+W\n",
    "            \n",
    "        evals, ekets=np.linalg.eig(H_ks)\n",
    "            \n",
    "        n_out=np.zeros(P)\n",
    "            \n",
    "        for k in range(0, P):\n",
    "            for e in range(0, N_e[i]):\n",
    "                n_out[k]+=ekets[ind_menor((evals))[e]][k]**2\n",
    "            \n",
    "        for k in range(0, P):\n",
    "            n_new[k]=alpha*n_old[k]+(1-alpha)*n_out[k]\n",
    "            \n",
    "    for k in range(0, P):\n",
    "            N_2+=n_new[k]**2\n",
    "            \n",
    "    for e in range(0, N_e[i]):\n",
    "        epsilon+=evals[ind_menor(evals)[e]]\n",
    "            \n",
    "    t_1=time()-t_0\n",
    "    \n",
    "    E.append(epsilon-0.25*u*N_2)\n",
    "    tiempo.append(t_1)\n",
    "    \n",
    "np.savetxt(\"E_t_N.txt\", np.c_[E,tiempo,N_e])"
   ]
  },
  {
   "cell_type": "code",
   "execution_count": null,
   "id": "celtic-jerusalem",
   "metadata": {},
   "outputs": [],
   "source": []
  }
 ],
 "metadata": {
  "kernelspec": {
   "display_name": "Python 3",
   "language": "python",
   "name": "python3"
  },
  "language_info": {
   "codemirror_mode": {
    "name": "ipython",
    "version": 3
   },
   "file_extension": ".py",
   "mimetype": "text/x-python",
   "name": "python",
   "nbconvert_exporter": "python",
   "pygments_lexer": "ipython3",
   "version": "3.8.6"
  }
 },
 "nbformat": 4,
 "nbformat_minor": 5
}
