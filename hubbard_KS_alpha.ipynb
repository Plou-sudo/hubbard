{
 "cells": [
  {
   "cell_type": "markdown",
   "id": "imported-travel",
   "metadata": {},
   "source": [
    "# Dímero de Hubbard a través de K-S para diferentes parámetros de mezclado."
   ]
  },
  {
   "cell_type": "code",
   "execution_count": 1,
   "id": "unlikely-trade",
   "metadata": {},
   "outputs": [],
   "source": [
    "%matplotlib inline\n",
    "import numpy as np\n",
    "from qutip import *\n",
    "import matplotlib.pyplot as plt\n",
    "from sympy.utilities.iterables import multiset_permutations\n",
    "from time import time\n",
    "import random\n",
    "import matplotlib.gridspec as gridspec"
   ]
  },
  {
   "cell_type": "code",
   "execution_count": 2,
   "id": "absolute-encounter",
   "metadata": {},
   "outputs": [],
   "source": [
    "def ind_menor(vector):\n",
    "    \n",
    "    ind_min=[]\n",
    "    ordenados=sorted(vector)\n",
    "    \n",
    "    for i in range (len(vector)):\n",
    "        for k in range(len(vector)):\n",
    "        \n",
    "            if (vector[k]==ordenados[i]):\n",
    "                \n",
    "                ind_min.append(k)\n",
    "                ind_min.append(k)\n",
    "            \n",
    "    return ind_min"
   ]
  },
  {
   "cell_type": "code",
   "execution_count": 3,
   "id": "silver-enlargement",
   "metadata": {},
   "outputs": [],
   "source": [
    "P=2\n",
    "N_e=2\n",
    "\n",
    "T=np.zeros([P,P])\n",
    "V=np.zeros([P,P])\n",
    "W=np.zeros([P,P])\n",
    "v=np.zeros(P)\n",
    "\n",
    "for i in range (0,P-1):\n",
    "    T[i,i+1]=T[i+1,i]=-0.5\n",
    "\n",
    "u=1"
   ]
  },
  {
   "cell_type": "code",
   "execution_count": 4,
   "id": "aquatic-dress",
   "metadata": {},
   "outputs": [],
   "source": [
    "t_0=time()\n",
    "\n",
    "alpha=[0.1, 0.2, 0.3, 0.4, 0.5, 0.6, 0.7, 0.8, 0.9]\n",
    "\n",
    "delta_N=[]\n",
    "Conver=[]\n",
    "\n",
    "for i in range (0, len(alpha)):\n",
    "    \n",
    "    delta_n=[]\n",
    "    convergencia=[]\n",
    "               \n",
    "    for k in range (0,P):\n",
    "        v[k]=(-1)**k*2.5\n",
    "        \n",
    "    for k in range (0,P):\n",
    "            V[k,k]=v[k]\n",
    "            \n",
    "    n_out=np.zeros(P)\n",
    "    n_new=np.zeros(P)\n",
    "    n_old=[1 for x in range(P)]\n",
    "    n_new[0]=N_e\n",
    "    \n",
    "    conver=0\n",
    "    \n",
    "    delta_n.append(n_new[0]-n_old[0])\n",
    "    convergencia.append(conver)\n",
    "        \n",
    "    while not(all(abs(np.array(n_old)-np.array(n_out))<0.00001)):\n",
    "    #for l in range (300):\n",
    "    #while(abs(n_new[0]+n_new[1]-n_old[0]-n_old[1])>0.0000001):\n",
    "       \n",
    "        for k in range (0, P):\n",
    "            n_old[k]=n_new[k]\n",
    "                \n",
    "        #print(n_old, n_new)\n",
    "            \n",
    "        for k in range (0,P):\n",
    "            W[k,k]=0.5*u*n_old[k]\n",
    "                \n",
    "        H_ks=T+V+W\n",
    "            \n",
    "        evals, ekets=np.linalg.eig(H_ks)\n",
    "            \n",
    "        n_out=np.zeros(P)\n",
    "            \n",
    "        for k in range(0,P):\n",
    "            for e in range(0, N_e):\n",
    "                n_out[k]+=ekets[ind_menor((evals))[e]][k]**2\n",
    "            \n",
    "        for k in range(0,P):\n",
    "            n_new[k]=alpha[i]*n_old[k]+(1-alpha[i])*n_out[k]\n",
    "            \n",
    "        conver+=1\n",
    "        delta_n.append(abs(n_new[0]-n_old[0]))\n",
    "        convergencia.append(conver)\n",
    "        \n",
    "    delta_N.append(delta_n)\n",
    "    Conver.append(convergencia)\n",
    "        \n",
    "t_1=time()-t_0"
   ]
  },
  {
   "cell_type": "code",
   "execution_count": 5,
   "id": "nervous-karen",
   "metadata": {},
   "outputs": [
    {
     "data": {
      "image/png": "[encoded data removed]",
      "text/plain": [
       "<Figure size 576x360 with 1 Axes>"
      ]
     },
     "metadata": {
      "needs_background": "light"
     },
     "output_type": "display_data"
    }
   ],
   "source": [
    "fig, ax = plt.subplots(figsize=(8,5))\n",
    "\n",
    "plt.ylim(-0, 2)\n",
    "plt.xlim(0, 15)\n",
    "\n",
    "ax.plot(Conver[0],delta_N[0])\n",
    "\n",
    "ax.plot(Conver[3],delta_N[3])\n",
    "\n",
    "ax.plot(Conver[6],delta_N[6])\n",
    "\n",
    "ax.plot(Conver[8],delta_N[8])\n",
    "ax.legend((\"α=0.1\", \"α=0.4\", \"α=0.7\", \"α=0.9\"))\n",
    "ax.set_xlabel('Iteraciones')\n",
    "ax.set_ylabel('$n^{in}-n^{out}$')\n",
    "\n",
    "fig.savefig('convergencia_alfa.png')\n",
    "\n",
    "plt.show()"
   ]
  }
 ],
 "metadata": {
  "kernelspec": {
   "display_name": "Python 3",
   "language": "python",
   "name": "python3"
  },
  "language_info": {
   "codemirror_mode": {
    "name": "ipython",
    "version": 3
   },
   "file_extension": ".py",
   "mimetype": "text/x-python",
   "name": "python",
   "nbconvert_exporter": "python",
   "pygments_lexer": "ipython3",
   "version": "3.8.6"
  }
 },
 "nbformat": 4,
 "nbformat_minor": 5
}
